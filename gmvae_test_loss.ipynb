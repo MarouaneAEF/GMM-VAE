{
 "cells": [
  {
   "cell_type": "code",
   "execution_count": 1,
   "metadata": {},
   "outputs": [],
   "source": [
    "import torch \n",
    "from GMVAE import GMVAE\n",
    "import dataloader as dl \n",
    "dev=torch.device(\"cuda\")\n"
   ]
  },
  {
   "cell_type": "code",
   "execution_count": 2,
   "metadata": {},
   "outputs": [
    {
     "data": {
      "text/plain": [
       "GMVAE(\n",
       "  (c1): Conv2d(1, 16, kernel_size=(6, 6), stride=(1, 1), bias=False)\n",
       "  (b1): BatchNorm2d(16, eps=1e-05, momentum=0.1, affine=True, track_running_stats=True)\n",
       "  (c2): Conv2d(16, 32, kernel_size=(6, 6), stride=(1, 1), bias=False)\n",
       "  (b2): BatchNorm2d(32, eps=1e-05, momentum=0.1, affine=True, track_running_stats=True)\n",
       "  (c3): Conv2d(32, 64, kernel_size=(5, 5), stride=(2, 2), padding=(1, 1), bias=False)\n",
       "  (b3): BatchNorm2d(64, eps=1e-05, momentum=0.1, affine=True, track_running_stats=True)\n",
       "  (h1): Linear(in_features=4096, out_features=510, bias=False)\n",
       "  (b4): BatchNorm1d(510, eps=1e-05, momentum=0.1, affine=True, track_running_stats=True)\n",
       "  (mu_x): Linear(in_features=510, out_features=200, bias=True)\n",
       "  (logvar_x): Linear(in_features=510, out_features=200, bias=True)\n",
       "  (mu_w): Linear(in_features=510, out_features=150, bias=True)\n",
       "  (logvar_w): Linear(in_features=510, out_features=150, bias=True)\n",
       "  (qz): Linear(in_features=510, out_features=10, bias=True)\n",
       "  (h2): Linear(in_features=150, out_features=510, bias=True)\n",
       "  (mu_px): ModuleList(\n",
       "    (0): Linear(in_features=510, out_features=200, bias=True)\n",
       "    (1): Linear(in_features=510, out_features=200, bias=True)\n",
       "    (2): Linear(in_features=510, out_features=200, bias=True)\n",
       "    (3): Linear(in_features=510, out_features=200, bias=True)\n",
       "    (4): Linear(in_features=510, out_features=200, bias=True)\n",
       "    (5): Linear(in_features=510, out_features=200, bias=True)\n",
       "    (6): Linear(in_features=510, out_features=200, bias=True)\n",
       "    (7): Linear(in_features=510, out_features=200, bias=True)\n",
       "    (8): Linear(in_features=510, out_features=200, bias=True)\n",
       "    (9): Linear(in_features=510, out_features=200, bias=True)\n",
       "  )\n",
       "  (logvar_px): ModuleList(\n",
       "    (0): Linear(in_features=510, out_features=200, bias=True)\n",
       "    (1): Linear(in_features=510, out_features=200, bias=True)\n",
       "    (2): Linear(in_features=510, out_features=200, bias=True)\n",
       "    (3): Linear(in_features=510, out_features=200, bias=True)\n",
       "    (4): Linear(in_features=510, out_features=200, bias=True)\n",
       "    (5): Linear(in_features=510, out_features=200, bias=True)\n",
       "    (6): Linear(in_features=510, out_features=200, bias=True)\n",
       "    (7): Linear(in_features=510, out_features=200, bias=True)\n",
       "    (8): Linear(in_features=510, out_features=200, bias=True)\n",
       "    (9): Linear(in_features=510, out_features=200, bias=True)\n",
       "  )\n",
       "  (h3): Linear(in_features=200, out_features=510, bias=False)\n",
       "  (b5): BatchNorm1d(510, eps=1e-05, momentum=0.1, affine=True, track_running_stats=True)\n",
       "  (h4): Linear(in_features=200, out_features=4096, bias=False)\n",
       "  (b6): BatchNorm1d(4096, eps=1e-05, momentum=0.1, affine=True, track_running_stats=True)\n",
       "  (d3): ConvTranspose2d(64, 32, kernel_size=(4, 4), stride=(2, 2), bias=False)\n",
       "  (b7): BatchNorm2d(32, eps=1e-05, momentum=0.1, affine=True, track_running_stats=True)\n",
       "  (d2): ConvTranspose2d(32, 16, kernel_size=(6, 6), stride=(1, 1), bias=False)\n",
       "  (b8): BatchNorm2d(16, eps=1e-05, momentum=0.1, affine=True, track_running_stats=True)\n",
       "  (d1): ConvTranspose2d(16, 1, kernel_size=(6, 6), stride=(1, 1))\n",
       ")"
      ]
     },
     "execution_count": 2,
     "metadata": {},
     "output_type": "execute_result"
    }
   ],
   "source": [
    "gmvae = GMVAE()\n",
    "gmvae.load_state_dict(torch.load(\"./models/gmvae10.pth\"))\n",
    "gmvae.eval()"
   ]
  },
  {
   "cell_type": "code",
   "execution_count": null,
   "metadata": {},
   "outputs": [],
   "source": []
  }
 ],
 "metadata": {
  "interpreter": {
   "hash": "c45391b6a74e3d0745e61f07c9d51ce1705e4b46db7f92ce009fa77337c57b0d"
  },
  "kernelspec": {
   "display_name": "Python 3.6.13 64-bit ('test_sr': conda)",
   "language": "python",
   "name": "python3"
  },
  "language_info": {
   "codemirror_mode": {
    "name": "ipython",
    "version": 3
   },
   "file_extension": ".py",
   "mimetype": "text/x-python",
   "name": "python",
   "nbconvert_exporter": "python",
   "pygments_lexer": "ipython3",
   "version": "3.6.13"
  },
  "orig_nbformat": 4
 },
 "nbformat": 4,
 "nbformat_minor": 2
}
